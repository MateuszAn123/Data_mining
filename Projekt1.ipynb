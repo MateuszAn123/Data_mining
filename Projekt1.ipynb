{
 "cells": [
  {
   "cell_type": "markdown",
   "metadata": {},
   "source": [
    "## Our goal of database is to define a style of each team in Premier League (English Top Football League) and then try to predict result of a match (Win-Draw-Lose) based on opponent and its playing style."
   ]
  },
  {
   "cell_type": "code",
   "execution_count": 1,
   "metadata": {
    "ExecuteTime": {
     "end_time": "2025-04-28T20:26:11.809174Z",
     "start_time": "2025-04-28T20:26:11.789458Z"
    }
   },
   "outputs": [],
   "source": [
    "# Import and load data\n",
    "import pandas as pd\n",
    "import matplotlib.pyplot as plt\n",
    "import seaborn as sns\n",
    "\n",
    "# Load the data\n",
    "#teams_stats_goals_url = \"https://raw.githubusercontent.com/zoeblues/soccer/refs/heads/main/TeamsPremierLeagueGoals.csv?token=GHSAT0AAAAAADCXMOUTNJ6GGU75V5BML4342AOM5GQ\"\n",
    "#teams_stats_goals = pd.read_csv('C:/Users/mewam/hello/Data_mining/TeamsPremierLeagueGoals.csv')\n",
    "\n",
    "#teams_url = \"https://raw.githubusercontent.com/zoeblues/soccer/refs/heads/main/TeamsPremierLeague.csv?token=GHSAT0AAAAAADCXMOUSSJKYCYZKX76GDFNM2AOM7BQ\"\n",
    "#teams_stats = pd.read_csv(\"C:/Users/mewam/hello/Data_mining/TeamsPremierLeague.csv\")\n",
    "\n",
    "#match_url = \"https://raw.githubusercontent.com/zoeblues/soccer/refs/heads/main/Matches.csv?token=GHSAT0AAAAAADCXMOUTS3S4QHIRMDGQT7K22AOM7UQ\"\n",
    "#matches = pd.read_csv(\"C:/Users/mewam/hello/Data_mining/Matches.csv\")\n",
    "\n",
    "teams_stats_goals = pd.read_csv(\"TeamsPremierLeagueGoals.csv\")\n",
    "teams_stats = pd.read_csv(\"TeamsPremierLeague.csv\")\n",
    "matches = pd.read_csv(\"Matches.csv\")"
   ]
  },
  {
   "cell_type": "code",
   "execution_count": 2,
   "metadata": {
    "ExecuteTime": {
     "end_time": "2025-04-28T20:26:11.828568Z",
     "start_time": "2025-04-28T20:26:11.817577Z"
    }
   },
   "outputs": [
    {
     "name": "stdout",
     "output_type": "stream",
     "text": [
      "Wk            0\n",
      "Day           0\n",
      "Date          0\n",
      "Day Date      0\n",
      "Month Date    0\n",
      "Year Date     0\n",
      "Time          0\n",
      "Home          0\n",
      "xG Home       0\n",
      "Home_Score    0\n",
      "Away_Score    0\n",
      "xG Away       0\n",
      "Away          0\n",
      "Attendance    0\n",
      "Venue         0\n",
      "Referee       0\n",
      "Season        0\n",
      "dtype: int64\n",
      "Squad              0\n",
      "# Pl               0\n",
      "Age                0\n",
      "Poss               0\n",
      "MP                 0\n",
      "Starts             0\n",
      "Min                0\n",
      "90s                0\n",
      "Gls                0\n",
      "Ast                0\n",
      "G+A                0\n",
      "G-PK               0\n",
      "PK                 0\n",
      "PKatt              0\n",
      "CrdY               0\n",
      "CrdR               0\n",
      "xG                 0\n",
      "npxG               0\n",
      "xAG                0\n",
      "npxG+xAG           0\n",
      "PrgC               0\n",
      "PrgP               0\n",
      "Gls per 90         0\n",
      "Ast per 90         0\n",
      "G+A per 90         0\n",
      "G-PK per 90        0\n",
      "G+A-PK per 90      0\n",
      "xG per 90          0\n",
      "xAG per 90         0\n",
      "xG+xAG per 90      0\n",
      "npxG per 90        0\n",
      "npxG+xAG per 90    0\n",
      "Season             0\n",
      "dtype: int64\n",
      "Squad      0\n",
      "# Pl       0\n",
      "Poss       0\n",
      "90s        0\n",
      "Touches    0\n",
      "Def Pen    0\n",
      "Def 3rd    0\n",
      "Mid 3rd    0\n",
      "Att 3rd    0\n",
      "Att Pen    0\n",
      "Live       0\n",
      "Att        0\n",
      "Succ       0\n",
      "Succ%      0\n",
      "Tkld       0\n",
      "Tkld%      0\n",
      "Carries    0\n",
      "TotDist    0\n",
      "PrgDist    0\n",
      "PrgC       0\n",
      "1/3        0\n",
      "CPA        0\n",
      "Mis        0\n",
      "Dis        0\n",
      "Rec        0\n",
      "PrgR       0\n",
      "Season     0\n",
      "dtype: int64\n"
     ]
    }
   ],
   "source": [
    "# Check for missing values\n",
    "print(matches.isnull().sum())\n",
    "print(teams_stats_goals.isnull().sum())\n",
    "print(teams_stats.isnull().sum())\n",
    "\n",
    "# We see that there are no missing values"
   ]
  },
  {
   "cell_type": "code",
   "execution_count": 3,
   "metadata": {
    "ExecuteTime": {
     "end_time": "2025-04-28T20:26:11.914749Z",
     "start_time": "2025-04-28T20:26:11.907181Z"
    }
   },
   "outputs": [
    {
     "name": "stdout",
     "output_type": "stream",
     "text": [
      "Index(['Wk', 'Day', 'Date', 'Day Date', 'Month Date', 'Year Date', 'Time',\n",
      "       'Home', 'xG Home', 'Home_Score', 'Away_Score', 'xG Away', 'Away',\n",
      "       'Attendance', 'Venue', 'Referee', 'Season'],\n",
      "      dtype='object')\n",
      "Index(['Squad', '# Pl', 'Poss', '90s', 'Touches', 'Def Pen', 'Def 3rd',\n",
      "       'Mid 3rd', 'Att 3rd', 'Att Pen', 'Live', 'Att', 'Succ', 'Succ%', 'Tkld',\n",
      "       'Tkld%', 'Carries', 'TotDist', 'PrgDist', 'PrgC', '1/3', 'CPA', 'Mis',\n",
      "       'Dis', 'Rec', 'PrgR', 'Season'],\n",
      "      dtype='object')\n",
      "Index(['Squad', '# Pl', 'Age', 'Poss', 'MP', 'Starts', 'Min', '90s', 'Gls',\n",
      "       'Ast', 'G+A', 'G-PK', 'PK', 'PKatt', 'CrdY', 'CrdR', 'xG', 'npxG',\n",
      "       'xAG', 'npxG+xAG', 'PrgC', 'PrgP', 'Gls per 90', 'Ast per 90',\n",
      "       'G+A per 90', 'G-PK per 90', 'G+A-PK per 90', 'xG per 90', 'xAG per 90',\n",
      "       'xG+xAG per 90', 'npxG per 90', 'npxG+xAG per 90', 'Season'],\n",
      "      dtype='object')\n"
     ]
    }
   ],
   "source": [
    "#teams_stats_goals = teams_stats_goals.drop(['Age','MP','Starts','Min','90s'],axis=1)\n",
    "\n",
    "#teams_stats = teams_stats.drop(['90s','Touches','Live','Succ','Tkld','PrgC','Mis','Dis','PrgR'],axis=1)\n",
    "\n",
    "#matches = matches.drop(['Day','Date','Day Date','Year Date','Venue','Referee'],axis=1)\n",
    "\n",
    "# Check remaining columns\n",
    "print(matches.columns)\n",
    "print(teams_stats.columns)\n",
    "print(teams_stats_goals.columns)\n"
   ]
  },
  {
   "cell_type": "markdown",
   "metadata": {},
   "source": [
    "We decided to delete some of the columns we decided that are unnecessary.\n",
    "\n",
    "**DATA SET – matches:**\n",
    "\n",
    "- **Day, Date, Day Date, Year Date** – were deleted because of redundancy; we believe Matchweek Number and Month columns will be enough for our model.\n",
    "- **Venue** – was deleted because the stadium is always the same (home team stadium); we will distinguish this advantage using different columns.\n",
    "- **Referee** – we believe that referees should be unbiased and should not influence the result.\n",
    "\n",
    "**DATA SET – teams_stats:**\n",
    "\n",
    "- **90s** – total match number is constant and the same for all clubs.\n",
    "- **Touches, Live** – we think these columns are too general and we will distinguish touches by specific parts of the field.\n",
    "- **Succ, Tkld** – we think these columns are redundant as we already track the number of attack attempts and success %.\n",
    "- **PrgC, PrgR** – these columns are already in another dataset.\n",
    "- **Mis, Dis** – we think these columns are irrelevant as they are more connected to personal mistakes rather than team mistakes.\n",
    "\n",
    "**DATA SET – teams_stats_goals:**\n",
    "\n",
    "- **Age** – we think this column does not bring anything to our model nor to the playstyle of a team.\n",
    "- **MP, Starts, Min, 90s** – these numbers are constant and the same for all clubs.\n"
   ]
  },
  {
   "cell_type": "markdown",
   "metadata": {},
   "source": [
    "Now we will test whether any outliers exist in our data source.\n",
    "We will assume that an outlier is defined as a value with a Z-score greater than 3.\n"
   ]
  },
  {
   "cell_type": "code",
   "execution_count": 4,
   "metadata": {},
   "outputs": [
    {
     "name": "stdout",
     "output_type": "stream",
     "text": [
      "Matches:\n",
      "\n",
      "Outliers per numerical column (Z-score > 3):\n",
      "[ 0  0  0  0  5 10  4  6  0  0]\n",
      "Teams_stats:\n",
      "\n",
      "Outliers per numerical column (Z-score > 3):\n",
      "[0 0 0 0 0 0 0 1 0 0 0 0 0 0 0 0 0 0 0 1 0 0 0 0 0 0]\n",
      "Teams_stats_goals:\n",
      "\n",
      "Outliers per numerical column (Z-score > 3):\n",
      "[0 0 0 0 0 0 0 0 0 0 0 0 0 0 0 0 0 0 0 0 0 0 0 0 0 0 0 0 0 0 0]\n"
     ]
    },
    {
     "name": "stderr",
     "output_type": "stream",
     "text": [
      "C:\\Users\\mewam\\AppData\\Local\\Temp\\ipykernel_28464\\421131375.py:5: RuntimeWarning: Precision loss occurred in moment calculation due to catastrophic cancellation. This occurs when the data are nearly identical. Results may be unreliable.\n",
      "  z_scores = np.abs(stats.zscore(dataset.select_dtypes(include=[np.number]), nan_policy='omit'))\n",
      "C:\\Users\\mewam\\AppData\\Local\\Temp\\ipykernel_28464\\421131375.py:5: RuntimeWarning: Precision loss occurred in moment calculation due to catastrophic cancellation. This occurs when the data are nearly identical. Results may be unreliable.\n",
      "  z_scores = np.abs(stats.zscore(dataset.select_dtypes(include=[np.number]), nan_policy='omit'))\n"
     ]
    }
   ],
   "source": [
    "from scipy import stats\n",
    "import numpy as np\n",
    "\n",
    "def findOutliers(dataset):\n",
    "    z_scores = np.abs(stats.zscore(dataset.select_dtypes(include=[np.number]), nan_policy='omit'))\n",
    "    outlier_threshold = 3\n",
    "    outlier_mask = (z_scores > outlier_threshold)\n",
    "\n",
    "    outliers_per_column = (outlier_mask).sum(axis=0)\n",
    "    print(\"\\nOutliers per numerical column (Z-score > 3):\")\n",
    "    print(outliers_per_column)\n",
    "\n",
    "print(\"Matches:\")\n",
    "findOutliers(matches)\n",
    "print(\"Teams_stats:\")\n",
    "findOutliers(teams_stats)\n",
    "print(\"Teams_stats_goals:\")\n",
    "findOutliers(teams_stats_goals)"
   ]
  },
  {
   "cell_type": "markdown",
   "metadata": {},
   "source": [
    "After the analysis, we observed a few potential outliers in the `matches` and `teams_stats` datasets.\n",
    "We can verify whether they are data errors or simply rare events, such as a player scoring 7 goals in a single match — which, while uncommon, can occur.\n"
   ]
  },
  {
   "cell_type": "code",
   "execution_count": 5,
   "metadata": {},
   "outputs": [
    {
     "name": "stdout",
     "output_type": "stream",
     "text": [
      "Matches - detailed outliers:\n",
      "\n",
      "Total rows with outliers in Matches: 24\n",
      "Example outlier columns in Matches (including IDs):\n",
      "              Home             Away  xG Home  Home_Score  Away_Score  xG Away\n",
      "0           Fulham        Brentford      NaN         NaN         NaN      3.7\n",
      "1    Sheffield Utd    Newcastle Utd      NaN         NaN         8.0      3.9\n",
      "2      Aston Villa         Brighton      NaN         6.0         NaN      NaN\n",
      "3   Manchester Utd  Manchester City      NaN         NaN         NaN      4.0\n",
      "4  Manchester City      Bournemouth      NaN         6.0         NaN      NaN\n",
      "Teams_stats - detailed outliers:\n",
      "\n",
      "Total rows with outliers in Teams_stats: 1\n",
      "Example outlier columns in Teams_stats (including IDs):\n",
      "             Squad  Att 3rd    1/3\n",
      "0  Manchester City  10260.0  867.0\n"
     ]
    },
    {
     "name": "stderr",
     "output_type": "stream",
     "text": [
      "C:\\Users\\mewam\\AppData\\Local\\Temp\\ipykernel_28464\\980247120.py:3: RuntimeWarning: Precision loss occurred in moment calculation due to catastrophic cancellation. This occurs when the data are nearly identical. Results may be unreliable.\n",
      "  z_scores = np.abs(stats.zscore(numerical_data, nan_policy='omit'))\n"
     ]
    }
   ],
   "source": [
    "def findOutliersDetails(dataset, dataset_name=\"Dataset\", id_columns=[]):\n",
    "    numerical_data = dataset.select_dtypes(include=[np.number])\n",
    "    z_scores = np.abs(stats.zscore(numerical_data, nan_policy='omit'))\n",
    "    outlier_threshold = 3\n",
    "    outlier_mask = (z_scores > outlier_threshold)\n",
    "\n",
    "    outliers_per_column = outlier_mask.sum(axis=0)\n",
    "    rows_with_outliers = outlier_mask.any(axis=1)\n",
    "\n",
    "    # Only keep the numerical outlier values\n",
    "    outlier_only_values = numerical_data.where(outlier_mask)\n",
    "\n",
    "    # Keep only rows with at least one outlier\n",
    "    outlier_rows = outlier_only_values[rows_with_outliers]\n",
    "\n",
    "    # Add team name columns (or match ID) for identification\n",
    "    if id_columns:\n",
    "        id_info = dataset.loc[rows_with_outliers, id_columns]\n",
    "        outlier_rows = pd.concat([id_info.reset_index(drop=True), outlier_rows.reset_index(drop=True)], axis=1)\n",
    "\n",
    "    print(f\"\\nTotal rows with outliers in {dataset_name}: {outlier_rows.shape[0]}\")\n",
    "    if not outlier_rows.empty:\n",
    "        print(f\"Example outlier columns in {dataset_name} (including IDs):\")\n",
    "        print(outlier_rows.dropna(how='all', axis=1).head())  # Drop completely NaN columns in view\n",
    "\n",
    "    return outlier_rows\n",
    "\n",
    "# Example usage (you need to specify what identifies your match/team)\n",
    "print(\"Matches - detailed outliers:\")\n",
    "outlier_rows_matches = findOutliersDetails(matches, \"Matches\", id_columns=[\"Home\", \"Away\"])\n",
    "\n",
    "print(\"Teams_stats - detailed outliers:\")\n",
    "outlier_rows_teams_stats = findOutliersDetails(teams_stats, \"Teams_stats\", id_columns=[\"Squad\"])"
   ]
  },
  {
   "cell_type": "code",
   "execution_count": null,
   "metadata": {},
   "outputs": [],
   "source": []
  },
  {
   "cell_type": "code",
   "execution_count": 6,
   "metadata": {},
   "outputs": [
    {
     "name": "stdout",
     "output_type": "stream",
     "text": [
      "Matches - detailed outliers:\n",
      "\n",
      "Total rows with outliers in Matches: 24\n",
      "Example outlier columns in Matches (including IDs):\n",
      "              Home             Away  xG Home  Home_Score  Away_Score  xG Away\n",
      "0           Fulham        Brentford      NaN         NaN         NaN      3.7\n",
      "1    Sheffield Utd    Newcastle Utd      NaN         NaN         8.0      3.9\n",
      "2      Aston Villa         Brighton      NaN         6.0         NaN      NaN\n",
      "3   Manchester Utd  Manchester City      NaN         NaN         NaN      4.0\n",
      "4  Manchester City      Bournemouth      NaN         6.0         NaN      NaN\n",
      "Teams_stats - detailed outliers:\n",
      "\n",
      "Total rows with outliers in Teams_stats: 1\n",
      "Example outlier columns in Teams_stats (including IDs):\n",
      "             Squad  Att 3rd    1/3\n",
      "0  Manchester City  10260.0  867.0\n"
     ]
    },
    {
     "name": "stderr",
     "output_type": "stream",
     "text": [
      "C:\\Users\\mewam\\AppData\\Local\\Temp\\ipykernel_28464\\980247120.py:3: RuntimeWarning: Precision loss occurred in moment calculation due to catastrophic cancellation. This occurs when the data are nearly identical. Results may be unreliable.\n",
      "  z_scores = np.abs(stats.zscore(numerical_data, nan_policy='omit'))\n"
     ]
    }
   ],
   "source": [
    "def findOutliersDetails(dataset, dataset_name=\"Dataset\", id_columns=[]):\n",
    "    numerical_data = dataset.select_dtypes(include=[np.number])\n",
    "    z_scores = np.abs(stats.zscore(numerical_data, nan_policy='omit'))\n",
    "    outlier_threshold = 3\n",
    "    outlier_mask = (z_scores > outlier_threshold)\n",
    "\n",
    "    outliers_per_column = outlier_mask.sum(axis=0)\n",
    "    rows_with_outliers = outlier_mask.any(axis=1)\n",
    "\n",
    "    # Only keep the numerical outlier values\n",
    "    outlier_only_values = numerical_data.where(outlier_mask)\n",
    "\n",
    "    # Keep only rows with at least one outlier\n",
    "    outlier_rows = outlier_only_values[rows_with_outliers]\n",
    "\n",
    "    # Add team name columns (or match ID) for identification\n",
    "    if id_columns:\n",
    "        id_info = dataset.loc[rows_with_outliers, id_columns]\n",
    "        outlier_rows = pd.concat([id_info.reset_index(drop=True), outlier_rows.reset_index(drop=True)], axis=1)\n",
    "\n",
    "    print(f\"\\nTotal rows with outliers in {dataset_name}: {outlier_rows.shape[0]}\")\n",
    "    if not outlier_rows.empty:\n",
    "        print(f\"Example outlier columns in {dataset_name} (including IDs):\")\n",
    "        print(outlier_rows.dropna(how='all', axis=1).head())  # Drop completely NaN columns in view\n",
    "\n",
    "    return outlier_rows\n",
    "\n",
    "# Example usage (you need to specify what identifies your match/team)\n",
    "print(\"Matches - detailed outliers:\")\n",
    "outlier_rows_matches = findOutliersDetails(matches, \"Matches\", id_columns=[\"Home\", \"Away\"])\n",
    "\n",
    "print(\"Teams_stats - detailed outliers:\")\n",
    "outlier_rows_teams_stats = findOutliersDetails(teams_stats, \"Teams_stats\", id_columns=[\"Squad\"])"
   ]
  },
  {
   "cell_type": "markdown",
   "metadata": {},
   "source": [
    "## Outlier Analysis\n",
    "\n",
    "### Matches\n",
    "We can observe that the outliers in the `matches` dataset are actual results, mainly caused by high numbers of goals or high expected goals (xG).\n",
    "Since these results are legitimate and reflect real-world match outcomes, **we will keep them in our data source**.\n",
    "\n",
    "### Team Stats\n",
    "The outlier detected in the `teams_stats` dataset corresponds to **Manchester City** and their number of attacks in the final third of the field.\n",
    "Given Manchester City's well-known dominance in the Premier League and their superior offensive play, this data is also accurate.\n",
    "Thus, **we will keep this outlier as well**.\n"
   ]
  },
  {
   "cell_type": "code",
   "execution_count": 7,
   "metadata": {
    "ExecuteTime": {
     "end_time": "2025-04-28T20:26:11.994992Z",
     "start_time": "2025-04-28T20:26:11.967490Z"
    }
   },
   "outputs": [
    {
     "name": "stdout",
     "output_type": "stream",
     "text": [
      "Matches\n",
      "   Wk  Day            Date  Day Date  Month Date  Year Date   Time  \\\n",
      "0   1  Fri  11 August 2023        11           8       2023  20:00   \n",
      "1   1  Sat  12 August 2023        12           8       2023  12:30   \n",
      "2   1  Sat  12 August 2023        12           8       2023  15:00   \n",
      "3   1  Sat  12 August 2023        12           8       2023  15:00   \n",
      "4   1  Sat  12 August 2023        12           8       2023  15:00   \n",
      "\n",
      "            Home  xG Home  Home_Score  Away_Score  xG Away             Away  \\\n",
      "0        Burnley      0.3           0           3      1.9  Manchester City   \n",
      "1        Arsenal      0.8           2           1      1.2  Nott'ham Forest   \n",
      "2        Everton      2.7           0           1      1.5           Fulham   \n",
      "3  Sheffield Utd      0.5           0           1      1.9   Crystal Palace   \n",
      "4       Brighton      4.0           4           1      1.5       Luton Town   \n",
      "\n",
      "   Attendance                                   Venue         Referee  Season  \n",
      "0     21572.0                               Turf Moor    Craig Pawson    2024  \n",
      "1     59984.0                        Emirates Stadium  Michael Oliver    2024  \n",
      "2     39940.0                           Goodison Park  Stuart Attwell    2024  \n",
      "3     31194.0                            Bramall Lane     John Brooks    2024  \n",
      "4     31872.0  The American Express Community Stadium     David Coote    2024  \n",
      "teams Stats Goals\n",
      "         Squad  # Pl   Age  Poss  MP  Starts    Min  90s  Gls  Ast  ...  \\\n",
      "0      Arsenal    25  25.0  58.2  38     418  3,420   38   86   62  ...   \n",
      "1  Aston Villa    31  26.9  53.1  38     418  3,420   38   72   55  ...   \n",
      "2  Bournemouth    30  25.7  44.4  38     418  3,420   38   52   39  ...   \n",
      "3    Brentford    28  26.6  45.2  38     418  3,420   38   54   38  ...   \n",
      "4     Brighton    30  25.9  59.8  38     418  3,420   38   50   36  ...   \n",
      "\n",
      "   Ast per 90  G+A per 90  G-PK per 90  G+A-PK per 90  xG per 90  xAG per 90  \\\n",
      "0        1.63        3.89         2.00           3.63       2.00        1.46   \n",
      "1        1.45        3.34         1.79           3.24       1.67        1.28   \n",
      "2        1.03        2.39         1.32           2.34       1.47        1.06   \n",
      "3        1.00        2.42         1.34           2.34       1.53        1.12   \n",
      "4        0.95        2.26         1.18           2.13       1.49        1.09   \n",
      "\n",
      "   xG+xAG per 90  npxG per 90  npxG+xAG per 90  Season  \n",
      "0           3.46         1.80             3.26    2024  \n",
      "1           2.95         1.59             2.87    2024  \n",
      "2           2.54         1.41             2.47    2024  \n",
      "3           2.66         1.47             2.60    2024  \n",
      "4           2.59         1.37             2.47    2024  \n",
      "\n",
      "[5 rows x 33 columns]\n",
      "General Teams Stats\n",
      "         Squad  # Pl  Poss  90s  Touches  Def Pen  Def 3rd  Mid 3rd  Att 3rd  \\\n",
      "0      Arsenal    25  58.2   38    26493     1974     6714    11407     8560   \n",
      "1  Aston Villa    31  53.1   38    23059     2807     8171     9636     5459   \n",
      "2  Bournemouth    30  44.4   38    20700     2486     6820     8469     5686   \n",
      "3    Brentford    28  45.2   38    21227     2878     7944     8253     5210   \n",
      "4     Brighton    30  59.8   38    29112     3197     9449    13090     6766   \n",
      "\n",
      "   Att Pen  ...  TotDist  PrgDist  PrgC  1/3  CPA  Mis  Dis    Rec  PrgR  \\\n",
      "0     1480  ...    81171    41510   821  575  327  525  375  18917  2088   \n",
      "1     1010  ...    78629    41239   775  490  217  477  416  15824  1438   \n",
      "2     1033  ...    66369    34635   709  513  240  637  386  11771  1296   \n",
      "3      982  ...    56621    29411   505  363  156  556  271  12416  1276   \n",
      "4     1081  ...    92960    48884   864  584  269  579  342  21577  1767   \n",
      "\n",
      "   Season  \n",
      "0    2024  \n",
      "1    2024  \n",
      "2    2024  \n",
      "3    2024  \n",
      "4    2024  \n",
      "\n",
      "[5 rows x 27 columns]\n",
      "Index(['Squad', '# Pl', 'Age', 'Poss', 'MP', 'Starts', 'Min', '90s', 'Gls',\n",
      "       'Ast', 'G+A', 'G-PK', 'PK', 'PKatt', 'CrdY', 'CrdR', 'xG', 'npxG',\n",
      "       'xAG', 'npxG+xAG', 'PrgC', 'PrgP', 'Gls per 90', 'Ast per 90',\n",
      "       'G+A per 90', 'G-PK per 90', 'G+A-PK per 90', 'xG per 90', 'xAG per 90',\n",
      "       'xG+xAG per 90', 'npxG per 90', 'npxG+xAG per 90', 'Season'],\n",
      "      dtype='object')\n"
     ]
    }
   ],
   "source": [
    "print(\"Matches\")\n",
    "print(matches.head())\n",
    "\n",
    "print(\"teams Stats Goals\")    \n",
    "print(teams_stats_goals.head())\n",
    "\n",
    "print(\"General Teams Stats\")\n",
    "print(teams_stats.head())\n",
    "\n",
    "print(teams_stats_goals.columns)"
   ]
  },
  {
   "cell_type": "code",
   "execution_count": 8,
   "metadata": {},
   "outputs": [
    {
     "name": "stdout",
     "output_type": "stream",
     "text": [
      "Season comparison:\n",
      "   Season    Poss    Gls    Ast   CrdY  CrdR   PK\n",
      "0    2023  49.995  51.95  36.30  69.65   1.5  3.7\n",
      "1    2024  50.005  59.85  42.95  82.75   2.9  4.8\n",
      "   Season  Def Pen  Def 3rd   Mid 3rd  Att 3rd  Att Pen\n",
      "0    2023   2521.6  7656.85   9936.35  5662.80   885.55\n",
      "1    2024   2644.6  7791.75  10151.75  6029.35   996.10\n"
     ]
    }
   ],
   "source": [
    "# It is time for basic calculations to compare two seasons\n",
    "\n",
    "season_comparison = teams_stats_goals.groupby(\"Season\")[[\n",
    "    \"Poss\", \"Gls\", \"Ast\", \"CrdY\", \"CrdR\", \"PK\"\n",
    "]].mean().reset_index()\n",
    "\n",
    "print(\"Season comparison:\")\n",
    "print(season_comparison)\n",
    "\n",
    "season_comparison_1 = teams_stats.groupby(\"Season\")[[\"Def Pen\", \"Def 3rd\", \"Mid 3rd\", \"Att 3rd\", \"Att Pen\"]].mean().reset_index()\n",
    "print(season_comparison_1)\n",
    "\n",
    "\n"
   ]
  },
  {
   "cell_type": "code",
   "execution_count": null,
   "metadata": {},
   "outputs": [
    {
     "data": {
      "text/html": [
       "<div>\n",
       "<style scoped>\n",
       "    .dataframe tbody tr th:only-of-type {\n",
       "        vertical-align: middle;\n",
       "    }\n",
       "\n",
       "    .dataframe tbody tr th {\n",
       "        vertical-align: top;\n",
       "    }\n",
       "\n",
       "    .dataframe thead th {\n",
       "        text-align: right;\n",
       "    }\n",
       "</style>\n",
       "<table border=\"1\" class=\"dataframe\">\n",
       "  <thead>\n",
       "    <tr style=\"text-align: right;\">\n",
       "      <th>Season</th>\n",
       "      <th>Points_2023</th>\n",
       "      <th>Points_2024</th>\n",
       "      <th>Rank_2023</th>\n",
       "      <th>Rank_2024</th>\n",
       "      <th>Rank_Change</th>\n",
       "    </tr>\n",
       "    <tr>\n",
       "      <th>Team</th>\n",
       "      <th></th>\n",
       "      <th></th>\n",
       "      <th></th>\n",
       "      <th></th>\n",
       "      <th></th>\n",
       "    </tr>\n",
       "  </thead>\n",
       "  <tbody>\n",
       "    <tr>\n",
       "      <th>Manchester City</th>\n",
       "      <td>89</td>\n",
       "      <td>106</td>\n",
       "      <td>1</td>\n",
       "      <td>1</td>\n",
       "      <td>0</td>\n",
       "    </tr>\n",
       "    <tr>\n",
       "      <th>Arsenal</th>\n",
       "      <td>84</td>\n",
       "      <td>101</td>\n",
       "      <td>2</td>\n",
       "      <td>2</td>\n",
       "      <td>0</td>\n",
       "    </tr>\n",
       "    <tr>\n",
       "      <th>Manchester Utd</th>\n",
       "      <td>75</td>\n",
       "      <td>66</td>\n",
       "      <td>3</td>\n",
       "      <td>8</td>\n",
       "      <td>-5</td>\n",
       "    </tr>\n",
       "    <tr>\n",
       "      <th>Newcastle Utd</th>\n",
       "      <td>71</td>\n",
       "      <td>67</td>\n",
       "      <td>4</td>\n",
       "      <td>7</td>\n",
       "      <td>-3</td>\n",
       "    </tr>\n",
       "    <tr>\n",
       "      <th>Liverpool</th>\n",
       "      <td>67</td>\n",
       "      <td>89</td>\n",
       "      <td>5</td>\n",
       "      <td>3</td>\n",
       "      <td>2</td>\n",
       "    </tr>\n",
       "    <tr>\n",
       "      <th>Brighton</th>\n",
       "      <td>62</td>\n",
       "      <td>52</td>\n",
       "      <td>6</td>\n",
       "      <td>11</td>\n",
       "      <td>-5</td>\n",
       "    </tr>\n",
       "    <tr>\n",
       "      <th>Aston Villa</th>\n",
       "      <td>61</td>\n",
       "      <td>69</td>\n",
       "      <td>7</td>\n",
       "      <td>6</td>\n",
       "      <td>1</td>\n",
       "    </tr>\n",
       "    <tr>\n",
       "      <th>Tottenham</th>\n",
       "      <td>60</td>\n",
       "      <td>72</td>\n",
       "      <td>8</td>\n",
       "      <td>5</td>\n",
       "      <td>3</td>\n",
       "    </tr>\n",
       "    <tr>\n",
       "      <th>Brentford</th>\n",
       "      <td>59</td>\n",
       "      <td>43</td>\n",
       "      <td>9</td>\n",
       "      <td>16</td>\n",
       "      <td>-7</td>\n",
       "    </tr>\n",
       "    <tr>\n",
       "      <th>Fulham</th>\n",
       "      <td>52</td>\n",
       "      <td>51</td>\n",
       "      <td>10</td>\n",
       "      <td>13</td>\n",
       "      <td>-3</td>\n",
       "    </tr>\n",
       "    <tr>\n",
       "      <th>Crystal Palace</th>\n",
       "      <td>45</td>\n",
       "      <td>58</td>\n",
       "      <td>11</td>\n",
       "      <td>9</td>\n",
       "      <td>2</td>\n",
       "    </tr>\n",
       "    <tr>\n",
       "      <th>Chelsea</th>\n",
       "      <td>44</td>\n",
       "      <td>78</td>\n",
       "      <td>12</td>\n",
       "      <td>4</td>\n",
       "      <td>8</td>\n",
       "    </tr>\n",
       "    <tr>\n",
       "      <th>Wolves</th>\n",
       "      <td>41</td>\n",
       "      <td>46</td>\n",
       "      <td>13</td>\n",
       "      <td>15</td>\n",
       "      <td>-2</td>\n",
       "    </tr>\n",
       "    <tr>\n",
       "      <th>West Ham</th>\n",
       "      <td>40</td>\n",
       "      <td>55</td>\n",
       "      <td>14</td>\n",
       "      <td>10</td>\n",
       "      <td>4</td>\n",
       "    </tr>\n",
       "    <tr>\n",
       "      <th>Bournemouth</th>\n",
       "      <td>39</td>\n",
       "      <td>51</td>\n",
       "      <td>15</td>\n",
       "      <td>13</td>\n",
       "      <td>2</td>\n",
       "    </tr>\n",
       "    <tr>\n",
       "      <th>Nott'ham Forest</th>\n",
       "      <td>38</td>\n",
       "      <td>42</td>\n",
       "      <td>16</td>\n",
       "      <td>17</td>\n",
       "      <td>-1</td>\n",
       "    </tr>\n",
       "    <tr>\n",
       "      <th>Everton</th>\n",
       "      <td>36</td>\n",
       "      <td>52</td>\n",
       "      <td>17</td>\n",
       "      <td>11</td>\n",
       "      <td>6</td>\n",
       "    </tr>\n",
       "    <tr>\n",
       "      <th>Leicester City</th>\n",
       "      <td>34</td>\n",
       "      <td>0</td>\n",
       "      <td>18</td>\n",
       "      <td>21</td>\n",
       "      <td>-3</td>\n",
       "    </tr>\n",
       "    <tr>\n",
       "      <th>Leeds United</th>\n",
       "      <td>31</td>\n",
       "      <td>0</td>\n",
       "      <td>19</td>\n",
       "      <td>21</td>\n",
       "      <td>-2</td>\n",
       "    </tr>\n",
       "    <tr>\n",
       "      <th>Southampton</th>\n",
       "      <td>25</td>\n",
       "      <td>0</td>\n",
       "      <td>20</td>\n",
       "      <td>21</td>\n",
       "      <td>-1</td>\n",
       "    </tr>\n",
       "    <tr>\n",
       "      <th>Luton Town</th>\n",
       "      <td>0</td>\n",
       "      <td>27</td>\n",
       "      <td>21</td>\n",
       "      <td>18</td>\n",
       "      <td>3</td>\n",
       "    </tr>\n",
       "    <tr>\n",
       "      <th>Burnley</th>\n",
       "      <td>0</td>\n",
       "      <td>24</td>\n",
       "      <td>21</td>\n",
       "      <td>19</td>\n",
       "      <td>2</td>\n",
       "    </tr>\n",
       "    <tr>\n",
       "      <th>Sheffield Utd</th>\n",
       "      <td>0</td>\n",
       "      <td>16</td>\n",
       "      <td>21</td>\n",
       "      <td>20</td>\n",
       "      <td>1</td>\n",
       "    </tr>\n",
       "  </tbody>\n",
       "</table>\n",
       "</div>"
      ],
      "text/plain": [
       "Season           Points_2023  Points_2024  Rank_2023  Rank_2024  Rank_Change\n",
       "Team                                                                        \n",
       "Manchester City           89          106          1          1            0\n",
       "Arsenal                   84          101          2          2            0\n",
       "Manchester Utd            75           66          3          8           -5\n",
       "Newcastle Utd             71           67          4          7           -3\n",
       "Liverpool                 67           89          5          3            2\n",
       "Brighton                  62           52          6         11           -5\n",
       "Aston Villa               61           69          7          6            1\n",
       "Tottenham                 60           72          8          5            3\n",
       "Brentford                 59           43          9         16           -7\n",
       "Fulham                    52           51         10         13           -3\n",
       "Crystal Palace            45           58         11          9            2\n",
       "Chelsea                   44           78         12          4            8\n",
       "Wolves                    41           46         13         15           -2\n",
       "West Ham                  40           55         14         10            4\n",
       "Bournemouth               39           51         15         13            2\n",
       "Nott'ham Forest           38           42         16         17           -1\n",
       "Everton                   36           52         17         11            6\n",
       "Leicester City            34            0         18         21           -3\n",
       "Leeds United              31            0         19         21           -2\n",
       "Southampton               25            0         20         21           -1\n",
       "Luton Town                 0           27         21         18            3\n",
       "Burnley                    0           24         21         19            2\n",
       "Sheffield Utd              0           16         21         20            1"
      ]
     },
     "execution_count": 9,
     "metadata": {},
     "output_type": "execute_result"
    }
   ],
   "source": [
    "def get_points(home_goals, away_goals):\n",
    "    if home_goals > away_goals:\n",
    "        return (3, 0)\n",
    "    elif home_goals == away_goals:\n",
    "        return (1, 1)\n",
    "    else:\n",
    "        return (0, 3)\n",
    "\n",
    "matches[['Home_Points', 'Away_Points']] = matches.apply(\n",
    "    lambda row: pd.Series(get_points(row['Home_Score'], row['Away_Score'])),\n",
    "    axis=1\n",
    ")\n",
    "\n",
    "home_results = matches[['Home', 'Home_Points', 'Season']].rename(columns={\n",
    "    'Home': 'Team',\n",
    "    'Home_Points': 'Points'\n",
    "})\n",
    "away_results = matches[['Away', 'Away_Points', 'Season']].rename(columns={\n",
    "    'Away': 'Team',\n",
    "    'Away_Points': 'Points'\n",
    "})\n",
    "\n",
    "full_results = pd.concat([home_results, away_results])\n",
    "\n",
    "season_table = full_results.groupby(['Season', 'Team']).agg({'Points': 'sum'}).reset_index()\n",
    "\n",
    "\n",
    "pivot_table = season_table.pivot(index=\"Team\", columns=\"Season\", values=\"Points\").fillna(0).astype(int)\n",
    "pivot_table = pivot_table.sort_values(by=pivot_table.columns.max(), ascending=False)\n",
    "pivot_table\n",
    "\n",
    "pivot_table[\"Rank_2023\"] = pivot_table[2023].rank(ascending=False, method='min').astype(int)\n",
    "pivot_table[\"Rank_2024\"] = pivot_table[2024].rank(ascending=False, method='min').astype(int)\n",
    "\n",
    "\n",
    "pivot_table[\"Rank_Change\"] = pivot_table[\"Rank_2023\"] - pivot_table[\"Rank_2024\"]\n",
    "\n",
    "sorted_table = pivot_table.sort_values(by=2023, ascending=False)[[2023, 2024, \"Rank_2023\", \"Rank_2024\", \"Rank_Change\"]]\n",
    "\n",
    "sorted_table.rename(columns={\n",
    "    2023: \"Points_2023\",\n",
    "    2024: \"Points_2024\"\n",
    "}, inplace=True)\n",
    "\n",
    "sorted_table\n",
    "\n",
    "# if there is a rank it means that the team is in a lower division "
   ]
  },
  {
   "cell_type": "markdown",
   "metadata": {},
   "source": [
    "Now we are checking correlation between xG with Goals  "
   ]
  },
  {
   "cell_type": "code",
   "execution_count": 10,
   "metadata": {
    "ExecuteTime": {
     "end_time": "2025-04-28T20:26:12.071024Z",
     "start_time": "2025-04-28T20:26:12.060086Z"
    }
   },
   "outputs": [
    {
     "name": "stdout",
     "output_type": "stream",
     "text": [
      "Correlation between xG Home and Home Score: 0.582\n",
      "Correlation between xG Away and Away Score: 0.602\n",
      "Correlation between xG non penalty and Goals without penalty: 0.898\n"
     ]
    }
   ],
   "source": [
    "\n",
    "home_corr = matches['xG Home'].corr(matches['Home_Score'])\n",
    "away_corr = matches['xG Away'].corr(matches['Away_Score'])\n",
    "\n",
    "print(f\"Correlation between xG Home and Home Score: {home_corr:.3f}\")\n",
    "print(f\"Correlation between xG Away and Away Score: {away_corr:.3f}\")\n",
    "# as we can see based on results xG and Goals are slightly correlated\n",
    "\n",
    "non_penalty_goals = teams_stats_goals['G-PK per 90'].corr(teams_stats_goals['npxG per 90'])\n",
    "print(f\"Correlation between xG non penalty and Goals without penalty: {non_penalty_goals:.3f}\")\n",
    "# we can conlcude that penalties strongly affects xG\n",
    "\n",
    "\n"
   ]
  },
  {
   "cell_type": "markdown",
   "metadata": {},
   "source": [
    "Before we checked for overall correlation of expected goals and actual goals\n",
    "\n",
    "Now we want to see if there exists a correlation for each team individually - maybe some teams perform as expected, whereas others are unpredictable"
   ]
  },
  {
   "cell_type": "code",
   "execution_count": 11,
   "metadata": {
    "ExecuteTime": {
     "end_time": "2025-04-28T20:34:32.447377Z",
     "start_time": "2025-04-28T20:34:32.232759Z"
    }
   },
   "outputs": [
    {
     "data": {
      "image/png": "[encoded data removed]",
      "text/plain": [
       "<Figure size 1000x600 with 1 Axes>"
      ]
     },
     "metadata": {},
     "output_type": "display_data"
    }
   ],
   "source": [
    "\n",
    "\n",
    "plt.figure(figsize=(10,6))\n",
    "sns.scatterplot(data=teams_stats_goals, x='xG', y='Gls')\n",
    "plt.plot([teams_stats_goals['xG'].min(), teams_stats_goals['xG'].max()],\n",
    "         [teams_stats_goals['xG'].min(), teams_stats_goals['xG'].max()],\n",
    "         color='red', linestyle='--')\n",
    "plt.xlabel('Expected Goals (xG)')\n",
    "plt.ylabel('Actual Goals (Goals)')\n",
    "plt.title('xG vs Goals for Each Team')\n",
    "plt.grid(True)\n",
    "plt.show()\n",
    "\n",
    "# each dot is one team, the red line is the reference line where actual goals are equal to expected goals\n",
    "# we see that some teams deviate from the average but there are no important outliers"
   ]
  },
  {
   "cell_type": "markdown",
   "metadata": {},
   "source": [
    "Now let's see if posession % has impact to total points - a team might have"
   ]
  },
  {
   "cell_type": "markdown",
   "metadata": {},
   "source": [
    "Now we want to check attendance's  influence on match"
   ]
  },
  {
   "cell_type": "code",
   "execution_count": 12,
   "metadata": {
    "ExecuteTime": {
     "end_time": "2025-04-28T20:26:12.124837Z",
     "start_time": "2025-04-28T20:26:12.091074Z"
    }
   },
   "outputs": [
    {
     "name": "stdout",
     "output_type": "stream",
     "text": [
      "Attendance_vs_Avg  Less than avg  More than avg\n",
      "Home_Result                                    \n",
      "Draw                          84             89\n",
      "Lose                          97            151\n",
      "Win                          188            188\n"
     ]
    }
   ],
   "source": [
    "average_attendance = matches.groupby('Home')['Attendance'].mean()\n",
    "\n",
    "# Define result for home team\n",
    "def home_result(row):\n",
    "    if row['Home_Score'] > row['Away_Score']:\n",
    "        return 'Win'\n",
    "    elif row['Home_Score'] == row['Away_Score']:\n",
    "        return 'Draw'\n",
    "    else:\n",
    "        return 'Lose'\n",
    "\n",
    "matches['Home_Result'] = matches.apply(home_result, axis=1)\n",
    "\n",
    "# Compare attendance to the venue's average\n",
    "matches['Attendance_vs_Avg'] = matches.apply(\n",
    "    lambda row: 'More than avg' if row['Attendance'] > average_attendance[row['Home']] else 'Less than avg',\n",
    "    axis=1\n",
    ")\n",
    "\n",
    "# Create a pivot table with counts\n",
    "result_table = matches.pivot_table(\n",
    "    index='Home_Result',\n",
    "    columns='Attendance_vs_Avg',\n",
    "    aggfunc='size',\n",
    "    fill_value=0\n",
    ")\n",
    "\n",
    "print(result_table)\n",
    "\n",
    "# nic z tego nie wynika\n"
   ]
  },
  {
   "cell_type": "code",
   "execution_count": 13,
   "metadata": {
    "ExecuteTime": {
     "end_time": "2025-04-28T20:26:12.456592Z",
     "start_time": "2025-04-28T20:26:12.189747Z"
    }
   },
   "outputs": [
    {
     "name": "stdout",
     "output_type": "stream",
     "text": [
      "          Def Pen   Def 3rd   Mid 3rd   Att 3rd   Att Pen\n",
      "Def Pen  1.000000  0.735377 -0.277103 -0.507797 -0.497829\n",
      "Def 3rd  0.735377  1.000000  0.310243 -0.048587 -0.070165\n",
      "Mid 3rd -0.277103  0.310243  1.000000  0.862479  0.783047\n",
      "Att 3rd -0.507797 -0.048587  0.862479  1.000000  0.944003\n",
      "Att Pen -0.497829 -0.070165  0.783047  0.944003  1.000000\n"
     ]
    },
    {
     "data": {
      "image/png": "[encoded data removed]",
      "text/plain": [
       "<Figure size 640x480 with 2 Axes>"
      ]
     },
     "metadata": {},
     "output_type": "display_data"
    },
    {
     "name": "stdout",
     "output_type": "stream",
     "text": [
      "Poss       1.000000\n",
      "Def Pen   -0.274123\n",
      "Def 3rd    0.305455\n",
      "Mid 3rd    0.945549\n",
      "Att 3rd    0.897237\n",
      "Att Pen    0.845809\n",
      "Name: Poss, dtype: float64\n"
     ]
    }
   ],
   "source": [
    "numeric_df = teams_stats[['Def Pen', 'Def 3rd', 'Mid 3rd', 'Att 3rd','Att Pen']]\n",
    "correlation_matrix = numeric_df.corr()\n",
    "print(correlation_matrix)\n",
    "\n",
    "import seaborn as sns\n",
    "import matplotlib.pyplot as plt\n",
    "\n",
    "sns.heatmap(correlation_matrix, annot=True, cmap='coolwarm')\n",
    "plt.title('Correlation Matrix Heatmap')\n",
    "plt.show()\n",
    "\n",
    "\n",
    "correlations_ball_possesion = teams_stats[['Poss', 'Def Pen', 'Def 3rd', 'Mid 3rd', 'Att 3rd','Att Pen']].corr().loc['Poss']\n",
    "print(correlations_ball_possesion)\n"
   ]
  },
  {
   "cell_type": "markdown",
   "metadata": {},
   "source": [
    "Teams with more possession tend to have more touches in the middle third. \n",
    "\n",
    "Teams with more possession have fewer touches in their defensive penalty area (because they are less often defending).\n",
    "\n",
    "There is no strong relationship between possession and touches in defensive third."
   ]
  },
  {
   "cell_type": "markdown",
   "metadata": {},
   "source": [
    "Correlation between Def Pen and Def 3rd: Teams that have more touches in the defensive penalty area also tend to have more touches in the defensive third.\n",
    "\n",
    "Correlation between Def Pen and Att 3rd: Teams that have more touches in their defensive penalty area slightly have fewer touches in the attacking third.\n",
    "\n",
    "Correlation between Mid 3rd and Att 3rd: Teams that dominate the middle third also dominate the attacking third — strong positive link."
   ]
  },
  {
   "cell_type": "code",
   "execution_count": 14,
   "metadata": {
    "ExecuteTime": {
     "end_time": "2025-04-28T20:26:12.488366Z",
     "start_time": "2025-04-28T20:26:12.470428Z"
    }
   },
   "outputs": [
    {
     "name": "stdout",
     "output_type": "stream",
     "text": [
      "Gls        1.000000\n",
      "Att 3rd    0.761338\n",
      "Att Pen    0.781467\n",
      "Name: Gls, dtype: float64\n"
     ]
    }
   ],
   "source": [
    "combined_df = pd.merge(teams_stats_goals[['Squad', 'Gls']], \n",
    "                       teams_stats[['Squad', 'Att 3rd', 'Att Pen']],\n",
    "                       on='Squad')\n",
    "\n",
    "# Now calculate correlations\n",
    "correlation_goals_touches = combined_df[['Gls', 'Att 3rd', 'Att Pen']].corr().loc['Gls']\n",
    "\n",
    "print(correlation_goals_touches)"
   ]
  },
  {
   "cell_type": "markdown",
   "metadata": {},
   "source": [
    "Those numbers prove that touches on opponent's half have impact on scored goals"
   ]
  },
  {
   "cell_type": "code",
   "execution_count": 15,
   "metadata": {
    "ExecuteTime": {
     "end_time": "2025-04-28T20:26:14.362413Z",
     "start_time": "2025-04-28T20:26:12.524649Z"
    }
   },
   "outputs": [
    {
     "name": "stderr",
     "output_type": "stream",
     "text": [
      "c:\\Users\\mewam\\AppData\\Local\\Programs\\Python\\Python312\\Lib\\site-packages\\joblib\\externals\\loky\\backend\\context.py:136: UserWarning: Could not find the number of physical cores for the following reason:\n",
      "found 0 physical cores < 1\n",
      "Returning the number of logical cores instead. You can silence this warning by setting LOKY_MAX_CPU_COUNT to the number of cores you want to use.\n",
      "  warnings.warn(\n",
      "  File \"c:\\Users\\mewam\\AppData\\Local\\Programs\\Python\\Python312\\Lib\\site-packages\\joblib\\externals\\loky\\backend\\context.py\", line 282, in _count_physical_cores\n",
      "    raise ValueError(f\"found {cpu_count_physical} physical cores < 1\")\n"
     ]
    },
    {
     "name": "stdout",
     "output_type": "stream",
     "text": [
      "              Squad                Style\n",
      "0           Arsenal    High Press Attack\n",
      "1       Aston Villa    Defensive Compact\n",
      "2       Bournemouth  Possession Build-up\n",
      "3         Brentford      Slow Possession\n",
      "4          Brighton       Counter Attack\n",
      "5           Burnley     Direct Long Ball\n",
      "6           Chelsea       Counter Attack\n",
      "7    Crystal Palace  Possession Build-up\n",
      "8           Everton  Possession Build-up\n",
      "9            Fulham     Direct Long Ball\n",
      "10        Liverpool    High Press Attack\n",
      "11       Luton Town  Possession Build-up\n",
      "12  Manchester City    High Press Attack\n",
      "13   Manchester Utd    Defensive Compact\n",
      "14    Newcastle Utd    Defensive Compact\n",
      "15  Nott'ham Forest  Possession Build-up\n",
      "16    Sheffield Utd  Possession Build-up\n",
      "17        Tottenham       Counter Attack\n",
      "18         West Ham  Possession Build-up\n",
      "19           Wolves     Direct Long Ball\n",
      "\n",
      "Cluster Summary Stats:\n",
      "\n"
     ]
    },
    {
     "data": {
      "image/png": "[encoded data removed]",
      "text/plain": [
       "<Figure size 1200x800 with 1 Axes>"
      ]
     },
     "metadata": {},
     "output_type": "display_data"
    }
   ],
   "source": [
    "import pandas as pd\n",
    "from sklearn.preprocessing import StandardScaler\n",
    "from sklearn.cluster import KMeans\n",
    "import matplotlib.pyplot as plt\n",
    "import matplotlib.patches as mpatches\n",
    "\n",
    "\n",
    "# Filter for Season 2024\n",
    "teams_stats = teams_stats[teams_stats['Season'] == 2024]\n",
    "teams_stats_goals = teams_stats_goals[teams_stats_goals['Season'] == 2024]\n",
    "\n",
    "# Merge important features together\n",
    "combined = pd.merge(\n",
    "    teams_stats[['Squad', 'Poss', 'Def Pen', 'Def 3rd', 'Mid 3rd', 'Att 3rd', 'Att Pen', 'Carries', 'TotDist', 'PrgDist', 'Rec']],\n",
    "    teams_stats_goals[['Squad', 'Gls', 'Ast', 'xG', 'npxG', 'xAG', 'PrgP']],\n",
    "    on='Squad'\n",
    ")\n",
    "\n",
    "# Features we care about\n",
    "features = ['Poss', 'Def Pen', 'Def 3rd', 'Mid 3rd', 'Att 3rd', 'Att Pen', \n",
    "            'Carries', 'TotDist', 'PrgDist', 'Rec', \n",
    "            'Gls', 'Ast', 'xG', 'npxG', 'xAG', 'PrgP']\n",
    "\n",
    "# Normalize the data\n",
    "scaler = StandardScaler()\n",
    "X_scaled = scaler.fit_transform(combined[features])\n",
    "\n",
    "# Apply KMeans clustering (let's assume 6 clusters based on richer playing styles)\n",
    "kmeans = KMeans(n_clusters=6, random_state=42)\n",
    "clusters = kmeans.fit_predict(X_scaled)\n",
    "\n",
    "# Add cluster labels to the DataFrame\n",
    "combined['Cluster'] = clusters\n",
    "\n",
    "# Initial mapping of styles (to be adjusted after analyzing stats)\n",
    "style_map = {\n",
    "    0: 'Possession Build-up',\n",
    "    1: 'Counter Attack',\n",
    "    2: 'Defensive Compact',\n",
    "    3: 'High Press Attack',\n",
    "    4: 'Direct Long Ball',\n",
    "    5: 'Slow Possession'\n",
    "}\n",
    "\n",
    "combined['Style'] = combined['Cluster'].map(style_map)\n",
    "\n",
    "# Display the result\n",
    "print(combined[['Squad', 'Style']])\n",
    "\n",
    "# Summarize stats per cluster\n",
    "cluster_summary = combined.groupby('Cluster')[features].mean().round(2)\n",
    "print(\"\\nCluster Summary Stats:\\n\")\n",
    "#print(cluster_summary)\n",
    "\n",
    "\n",
    "# Plot clusters for visualization \n",
    "plt.figure(figsize=(12,8))\n",
    "scatter = plt.scatter(X_scaled[:,0], X_scaled[:,4], c=clusters, cmap='viridis')\n",
    "\n",
    "# Team names on the plot\n",
    "for i, team in enumerate(combined['Squad']):\n",
    "    plt.text(X_scaled[i,0], X_scaled[i,4], team, fontsize=8, ha='right', va='bottom')\n",
    "\n",
    "# Create legend manually\n",
    "legend_labels = style_map\n",
    "handles = [mpatches.Patch(color=scatter.cmap(scatter.norm(i)), label=legend_labels[i]) for i in range(6)]\n",
    "plt.legend(handles=handles, title=\"Playing Style\")\n",
    "\n",
    "plt.xlabel('Possession (scaled)')\n",
    "plt.ylabel('Attacking 1/3 Touches (scaled)')\n",
    "plt.title('Team Playing Styles Clustering')\n",
    "plt.grid(True)\n",
    "plt.show()\n"
   ]
  },
  {
   "cell_type": "code",
   "execution_count": 16,
   "metadata": {
    "ExecuteTime": {
     "end_time": "2025-04-28T20:26:14.427636Z",
     "start_time": "2025-04-28T20:26:14.416173Z"
    }
   },
   "outputs": [
    {
     "name": "stdout",
     "output_type": "stream",
     "text": [
      "\n",
      "Style Descriptions:\n",
      "\n",
      "                 Style                                        Description\n",
      "0  Possession Build-up  Some teams (Man City, Brighton) dominate posse...\n",
      "1       Counter Attack  Some teams (Aston Villa, Wolves) focus on fast...\n",
      "2    Defensive Compact  Teams like Sheffield United, Luton stay very d...\n",
      "3    High Press Attack  Teams like Liverpool or Arsenal press aggressi...\n",
      "4     Direct Long Ball  Brentford, Everton: long balls, skipping midfi...\n",
      "5      Slow Possession  Chelsea (bad form), Crystal Palace: slow passi...\n"
     ]
    }
   ],
   "source": [
    "style_descriptions = pd.DataFrame({\n",
    "    'Style': ['Possession Build-up', 'Counter Attack', 'Defensive Compact', 'High Press Attack', 'Direct Long Ball', 'Slow Possession'],\n",
    "    'Description': [\n",
    "        'Some teams (Man City, Brighton) dominate possession and build from the back.',\n",
    "        'Some teams (Aston Villa, Wolves) focus on fast attacks after defense.',\n",
    "        'Teams like Sheffield United, Luton stay very defensive, low possession.',\n",
    "        'Teams like Liverpool or Arsenal press aggressively.',\n",
    "        'Brentford, Everton: long balls, skipping midfield.',\n",
    "        'Chelsea (bad form), Crystal Palace: slow passing without much attacking progress.'\n",
    "    ]\n",
    "})\n",
    "\n",
    "print(\"\\nStyle Descriptions:\\n\")\n",
    "print(style_descriptions)"
   ]
  },
  {
   "cell_type": "code",
   "execution_count": null,
   "metadata": {
    "ExecuteTime": {
     "end_time": "2025-04-28T20:26:14.693714Z",
     "start_time": "2025-04-28T20:26:14.541175Z"
    }
   },
   "outputs": [
    {
     "name": "stdout",
     "output_type": "stream",
     "text": [
      "               Team        Best_vs_Style  Best_Avg_Points     Worst_vs_Style  \\\n",
      "0           Arsenal  Possession Build-up             2.58  High Press Attack   \n",
      "1       Aston Villa     Direct Long Ball             2.00  Defensive Compact   \n",
      "2       Bournemouth     Direct Long Ball             2.00  High Press Attack   \n",
      "3         Brentford  Possession Build-up             1.64  Defensive Compact   \n",
      "4          Brighton  Possession Build-up             1.72  High Press Attack   \n",
      "5           Burnley      Slow Possession             1.50  High Press Attack   \n",
      "6           Chelsea  Possession Build-up             2.22  High Press Attack   \n",
      "7    Crystal Palace     Direct Long Ball             1.91     Counter Attack   \n",
      "8           Everton      Slow Possession             2.50  Defensive Compact   \n",
      "9            Fulham  Possession Build-up             1.84  High Press Attack   \n",
      "10     Leeds United     Direct Long Ball             1.50  High Press Attack   \n",
      "11   Leicester City     Direct Long Ball             1.50  High Press Attack   \n",
      "12        Liverpool     Direct Long Ball             2.55  High Press Attack   \n",
      "13       Luton Town  Possession Build-up             1.21    Slow Possession   \n",
      "14  Manchester City  Possession Build-up             2.77  High Press Attack   \n",
      "15   Manchester Utd     Direct Long Ball             2.50  High Press Attack   \n",
      "16    Newcastle Utd      Slow Possession             3.00  High Press Attack   \n",
      "17  Nott'ham Forest  Possession Build-up             1.29    Slow Possession   \n",
      "18    Sheffield Utd      Slow Possession             1.50  High Press Attack   \n",
      "19      Southampton       Counter Attack             1.17   Direct Long Ball   \n",
      "20        Tottenham  Possession Build-up             2.44  High Press Attack   \n",
      "21         West Ham     Direct Long Ball             1.90  High Press Attack   \n",
      "22           Wolves      Slow Possession             1.75  High Press Attack   \n",
      "\n",
      "    Worst_Avg_Points  \n",
      "0               1.50  \n",
      "1               0.75  \n",
      "2               0.23  \n",
      "3               0.46  \n",
      "4               0.75  \n",
      "5               0.00  \n",
      "6               0.50  \n",
      "7               0.17  \n",
      "8               0.42  \n",
      "9               0.38  \n",
      "10              0.50  \n",
      "11              0.00  \n",
      "12              0.88  \n",
      "13              0.00  \n",
      "14              1.50  \n",
      "15              0.85  \n",
      "16              0.42  \n",
      "17              0.50  \n",
      "18              0.00  \n",
      "19              0.00  \n",
      "20              0.53  \n",
      "21              0.38  \n",
      "22              0.43  \n"
     ]
    }
   ],
   "source": [
    "\n",
    "\n",
    "\n",
    "team_styles_correct = dict(zip(combined['Squad'], combined['Style']))\n",
    "# Map styles into matches\n",
    "matches['Home_Style'] = matches['Home'].map(team_styles_correct)\n",
    "matches['Away_Style'] = matches['Away'].map(team_styles_correct)\n",
    "\n",
    "# Calculate Points for Home and Away teams\n",
    "def get_points(home_goals, away_goals):\n",
    "    if home_goals > away_goals:\n",
    "        return (3, 0)\n",
    "    elif home_goals == away_goals:\n",
    "        return (1, 1)\n",
    "    else:\n",
    "        return (0, 3)\n",
    "\n",
    "matches[['Home_Points', 'Away_Points']] = matches.apply(\n",
    "    lambda row: pd.Series(get_points(row['Home_Score'], row['Away_Score'])),\n",
    "    axis=1\n",
    ")\n",
    "\n",
    "# Prepare home and away results\n",
    "home_results = matches[['Home', 'Away_Style', 'Home_Points']].rename(columns={\n",
    "    'Home': 'Team',\n",
    "    'Away_Style': 'Opponent_Style',\n",
    "    'Home_Points': 'Points'\n",
    "})\n",
    "away_results = matches[['Away', 'Home_Style', 'Away_Points']].rename(columns={\n",
    "    'Away': 'Team',\n",
    "    'Home_Style': 'Opponent_Style',\n",
    "    'Away_Points': 'Points'\n",
    "})\n",
    "\n",
    "# Combine\n",
    "full_results = pd.concat([home_results, away_results])\n",
    "\n",
    "# Group by Team and Opponent Style\n",
    "performance = full_results.groupby(['Team', 'Opponent_Style']).agg(\n",
    "    Matches=('Points', 'count'),\n",
    "    Total_Points=('Points', 'sum')\n",
    ").reset_index()\n",
    "\n",
    "performance['Avg_Points'] = (performance['Total_Points'] / performance['Matches']).round(2)\n",
    "\n",
    "# Find best and worst vs styles\n",
    "best_vs = performance.loc[performance.groupby('Team')['Avg_Points'].idxmax()].reset_index(drop=True)\n",
    "worst_vs = performance.loc[performance.groupby('Team')['Avg_Points'].idxmin()].reset_index(drop=True)\n",
    "\n",
    "summary = best_vs[['Team', 'Opponent_Style', 'Avg_Points']].rename(columns={\n",
    "    'Opponent_Style': 'Best_vs_Style',\n",
    "    'Avg_Points': 'Best_Avg_Points'\n",
    "})\n",
    "summary['Worst_vs_Style'] = worst_vs['Opponent_Style']\n",
    "summary['Worst_Avg_Points'] = worst_vs['Avg_Points']\n",
    "\n",
    "print(summary)\n",
    "\n"
   ]
  },
  {
   "cell_type": "markdown",
   "metadata": {},
   "source": [
    "As we can see High Press Attack is very hard style to play against."
   ]
  },
  {
   "cell_type": "code",
   "execution_count": 18,
   "metadata": {},
   "outputs": [
    {
     "name": "stdout",
     "output_type": "stream",
     "text": [
      "Opponent_Style       Counter Attack  Defensive Compact  Direct Long Ball  \\\n",
      "Team_Style                                                                 \n",
      "Counter Attack                 1.46               1.13              1.55   \n",
      "Defensive Compact              1.67               1.46              2.39   \n",
      "Direct Long Ball               1.26               0.45              1.25   \n",
      "High Press Attack              2.13               2.03              2.61   \n",
      "Possession Build-up            0.65               0.96              1.35   \n",
      "Slow Possession                1.50               0.46              1.36   \n",
      "\n",
      "Opponent_Style       High Press Attack  Possession Build-up  Slow Possession  \n",
      "Team_Style                                                                    \n",
      "Counter Attack                    0.59                 2.13             1.00  \n",
      "Defensive Compact                 0.76                 1.81             2.31  \n",
      "Direct Long Ball                  0.33                 1.40             1.36  \n",
      "High Press Attack                 1.29                 2.49             2.08  \n",
      "Possession Build-up               0.39                 1.35             1.04  \n",
      "Slow Possession                   0.83                 1.64              NaN  \n"
     ]
    }
   ],
   "source": [
    "full_results = pd.concat([home_results, away_results])\n",
    "full_results['Team_Style'] = full_results['Team'].map(team_styles_correct)\n",
    "\n",
    "# Step 5: Build style matchup matrix\n",
    "style_vs_style = full_results.groupby(['Team_Style', 'Opponent_Style']).agg(\n",
    "    Matches=('Points', 'count'),\n",
    "    Avg_Points=('Points', 'mean')\n",
    ").round(2).reset_index()\n",
    "\n",
    "matchup_matrix = style_vs_style.pivot(index='Team_Style', columns='Opponent_Style', values='Avg_Points')\n",
    "\n",
    "print(matchup_matrix)"
   ]
  },
  {
   "cell_type": "markdown",
   "metadata": {},
   "source": [
    "PREDICTIVE SCOUTING TOOL "
   ]
  },
  {
   "cell_type": "code",
   "execution_count": 19,
   "metadata": {},
   "outputs": [
    {
     "name": "stdout",
     "output_type": "stream",
     "text": [
      "Arsenal vs Burnley (Direct Long Ball) → Avg Points: 2.5 → Predicted Result: Win\n",
      "Brighton vs Liverpool (High Press Attack) → Avg Points: 0.75 → Predicted Result: Lose\n",
      "Tottenham vs Brentford (Slow Possession) → Avg Points: 1.25 → Predicted Result: Draw/Lose\n"
     ]
    }
   ],
   "source": [
    "\n",
    "team_vs_style = full_results.groupby(['Team', 'Opponent_Style']).agg(\n",
    "    Matches=('Points', 'count'),\n",
    "    Avg_Points=('Points', 'mean')\n",
    ").round(2).reset_index()\n",
    "\n",
    "# Step 3: Predictive Scouting Tool Function\n",
    "def predict_match(team_name, opponent_name):\n",
    "    opponent_style = team_styles_correct.get(opponent_name)\n",
    "    if opponent_style is None:\n",
    "        return f\"No style found for opponent: {opponent_name}\"\n",
    "\n",
    "    # Get performance history of team vs that style\n",
    "    row = team_vs_style[(team_vs_style['Team'] == team_name) & (team_vs_style['Opponent_Style'] == opponent_style)]\n",
    "\n",
    "    if row.empty:\n",
    "        return f\"{team_name} has not played against teams with style: {opponent_style}\"\n",
    "\n",
    "    avg_pts = row['Avg_Points'].values[0]\n",
    "\n",
    "    # Classify result type\n",
    "    if avg_pts >= 2.4:\n",
    "        prediction = \"Win\"\n",
    "    elif avg_pts >= 1.8:\n",
    "        prediction = \"Win/Draw\"\n",
    "    elif avg_pts >= 1.3:\n",
    "        prediction = \"Draw\"\n",
    "    elif avg_pts >= 0.8:\n",
    "        prediction = \"Draw/Lose\"\n",
    "    else:\n",
    "        prediction = \"Lose\"\n",
    "\n",
    "    return f\"{team_name} vs {opponent_name} ({opponent_style}) → Avg Points: {avg_pts} → Predicted Result: {prediction}\"\n",
    "\n",
    "# Example usage:\n",
    "print(predict_match(\"Arsenal\", \"Burnley\"))\n",
    "print(predict_match(\"Brighton\", \"Liverpool\"))\n",
    "print(predict_match(\"Tottenham\", \"Brentford\"))\n"
   ]
  }
 ],
 "metadata": {
  "kernelspec": {
   "display_name": "Python 3",
   "language": "python",
   "name": "python3"
  },
  "language_info": {
   "codemirror_mode": {
    "name": "ipython",
    "version": 3
   },
   "file_extension": ".py",
   "mimetype": "text/x-python",
   "name": "python",
   "nbconvert_exporter": "python",
   "pygments_lexer": "ipython3",
   "version": "3.12.8"
  }
 },
 "nbformat": 4,
 "nbformat_minor": 2
}
